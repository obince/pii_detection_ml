{
 "cells": [
  {
   "cell_type": "code",
   "execution_count": 9,
   "id": "4ccb4789",
   "metadata": {},
   "outputs": [],
   "source": [
    "import pandas as pd\n",
    "import numpy as np\n",
    "from tqdm import tqdm\n",
    "import re\n",
    "import matplotlib.pyplot as plt\n",
    "import html\n",
    "import string\n",
    "%matplotlib inline"
   ]
  },
  {
   "cell_type": "code",
   "execution_count": 10,
   "id": "501b65d9",
   "metadata": {
    "scrolled": true
   },
   "outputs": [
    {
     "data": {
      "text/html": [
       "<div>\n",
       "<style scoped>\n",
       "    .dataframe tbody tr th:only-of-type {\n",
       "        vertical-align: middle;\n",
       "    }\n",
       "\n",
       "    .dataframe tbody tr th {\n",
       "        vertical-align: top;\n",
       "    }\n",
       "\n",
       "    .dataframe thead th {\n",
       "        text-align: right;\n",
       "    }\n",
       "</style>\n",
       "<table border=\"1\" class=\"dataframe\">\n",
       "  <thead>\n",
       "    <tr style=\"text-align: right;\">\n",
       "      <th></th>\n",
       "      <th>id</th>\n",
       "      <th>eng_score</th>\n",
       "    </tr>\n",
       "  </thead>\n",
       "  <tbody>\n",
       "    <tr>\n",
       "      <th>count</th>\n",
       "      <td>2.121010e+05</td>\n",
       "      <td>212101.000000</td>\n",
       "    </tr>\n",
       "    <tr>\n",
       "      <th>mean</th>\n",
       "      <td>1.542861e+14</td>\n",
       "      <td>0.744315</td>\n",
       "    </tr>\n",
       "    <tr>\n",
       "      <th>std</th>\n",
       "      <td>6.686827e+13</td>\n",
       "      <td>0.242644</td>\n",
       "    </tr>\n",
       "    <tr>\n",
       "      <th>min</th>\n",
       "      <td>2.000000e+00</td>\n",
       "      <td>0.000000</td>\n",
       "    </tr>\n",
       "    <tr>\n",
       "      <th>25%</th>\n",
       "      <td>8.288693e+13</td>\n",
       "      <td>0.676411</td>\n",
       "    </tr>\n",
       "    <tr>\n",
       "      <th>50%</th>\n",
       "      <td>2.015430e+14</td>\n",
       "      <td>0.826481</td>\n",
       "    </tr>\n",
       "    <tr>\n",
       "      <th>75%</th>\n",
       "      <td>2.104866e+14</td>\n",
       "      <td>0.911264</td>\n",
       "    </tr>\n",
       "    <tr>\n",
       "      <th>max</th>\n",
       "      <td>2.115940e+14</td>\n",
       "      <td>0.999874</td>\n",
       "    </tr>\n",
       "  </tbody>\n",
       "</table>\n",
       "</div>"
      ],
      "text/plain": [
       "                 id      eng_score\n",
       "count  2.121010e+05  212101.000000\n",
       "mean   1.542861e+14       0.744315\n",
       "std    6.686827e+13       0.242644\n",
       "min    2.000000e+00       0.000000\n",
       "25%    8.288693e+13       0.676411\n",
       "50%    2.015430e+14       0.826481\n",
       "75%    2.104866e+14       0.911264\n",
       "max    2.115940e+14       0.999874"
      ]
     },
     "execution_count": 10,
     "metadata": {},
     "output_type": "execute_result"
    }
   ],
   "source": [
    "df = pd.read_csv('eng_score_new.csv')\n",
    "df.describe()"
   ]
  },
  {
   "cell_type": "code",
   "execution_count": 11,
   "id": "07a0c70f",
   "metadata": {
    "scrolled": true
   },
   "outputs": [
    {
     "data": {
      "text/html": [
       "<div>\n",
       "<style scoped>\n",
       "    .dataframe tbody tr th:only-of-type {\n",
       "        vertical-align: middle;\n",
       "    }\n",
       "\n",
       "    .dataframe tbody tr th {\n",
       "        vertical-align: top;\n",
       "    }\n",
       "\n",
       "    .dataframe thead th {\n",
       "        text-align: right;\n",
       "    }\n",
       "</style>\n",
       "<table border=\"1\" class=\"dataframe\">\n",
       "  <thead>\n",
       "    <tr style=\"text-align: right;\">\n",
       "      <th></th>\n",
       "      <th>id</th>\n",
       "      <th>sentence</th>\n",
       "      <th>eng_score</th>\n",
       "    </tr>\n",
       "  </thead>\n",
       "  <tbody>\n",
       "    <tr>\n",
       "      <th>3</th>\n",
       "      <td>60405483339961</td>\n",
       "      <td>Lost and/or Found Form . Submit. Full Name. To...</td>\n",
       "      <td>0.910910</td>\n",
       "    </tr>\n",
       "    <tr>\n",
       "      <th>5</th>\n",
       "      <td>73095534284158</td>\n",
       "      <td>Submit. Name. Birth Date. Address. Cell Phone ...</td>\n",
       "      <td>0.903673</td>\n",
       "    </tr>\n",
       "    <tr>\n",
       "      <th>7</th>\n",
       "      <td>81541209182856</td>\n",
       "      <td>Application for Mobile Skips Franchise. Email....</td>\n",
       "      <td>0.934323</td>\n",
       "    </tr>\n",
       "    <tr>\n",
       "      <th>16</th>\n",
       "      <td>201187727633054</td>\n",
       "      <td>Name. How are you feeling this morning?. Have ...</td>\n",
       "      <td>0.986994</td>\n",
       "    </tr>\n",
       "    <tr>\n",
       "      <th>17</th>\n",
       "      <td>201347378944160</td>\n",
       "      <td>Submit. General Consent to Dental Treatment Du...</td>\n",
       "      <td>0.954212</td>\n",
       "    </tr>\n",
       "  </tbody>\n",
       "</table>\n",
       "</div>"
      ],
      "text/plain": [
       "                 id                                           sentence  \\\n",
       "3    60405483339961  Lost and/or Found Form . Submit. Full Name. To...   \n",
       "5    73095534284158  Submit. Name. Birth Date. Address. Cell Phone ...   \n",
       "7    81541209182856  Application for Mobile Skips Franchise. Email....   \n",
       "16  201187727633054  Name. How are you feeling this morning?. Have ...   \n",
       "17  201347378944160  Submit. General Consent to Dental Treatment Du...   \n",
       "\n",
       "    eng_score  \n",
       "3    0.910910  \n",
       "5    0.903673  \n",
       "7    0.934323  \n",
       "16   0.986994  \n",
       "17   0.954212  "
      ]
     },
     "execution_count": 11,
     "metadata": {},
     "output_type": "execute_result"
    }
   ],
   "source": [
    "df = df[df['eng_score'] >= 0.90]\n",
    "df.head()"
   ]
  },
  {
   "cell_type": "code",
   "execution_count": 12,
   "id": "80bb97cc",
   "metadata": {},
   "outputs": [
    {
     "data": {
      "text/html": [
       "<div>\n",
       "<style scoped>\n",
       "    .dataframe tbody tr th:only-of-type {\n",
       "        vertical-align: middle;\n",
       "    }\n",
       "\n",
       "    .dataframe tbody tr th {\n",
       "        vertical-align: top;\n",
       "    }\n",
       "\n",
       "    .dataframe thead th {\n",
       "        text-align: right;\n",
       "    }\n",
       "</style>\n",
       "<table border=\"1\" class=\"dataframe\">\n",
       "  <thead>\n",
       "    <tr style=\"text-align: right;\">\n",
       "      <th></th>\n",
       "      <th>id</th>\n",
       "      <th>eng_score</th>\n",
       "    </tr>\n",
       "  </thead>\n",
       "  <tbody>\n",
       "    <tr>\n",
       "      <th>count</th>\n",
       "      <td>6.191100e+04</td>\n",
       "      <td>61911.000000</td>\n",
       "    </tr>\n",
       "    <tr>\n",
       "      <th>mean</th>\n",
       "      <td>1.620374e+14</td>\n",
       "      <td>0.937140</td>\n",
       "    </tr>\n",
       "    <tr>\n",
       "      <th>std</th>\n",
       "      <td>6.322364e+13</td>\n",
       "      <td>0.021926</td>\n",
       "    </tr>\n",
       "    <tr>\n",
       "      <th>min</th>\n",
       "      <td>2.000000e+00</td>\n",
       "      <td>0.900001</td>\n",
       "    </tr>\n",
       "    <tr>\n",
       "      <th>25%</th>\n",
       "      <td>9.101660e+13</td>\n",
       "      <td>0.919101</td>\n",
       "    </tr>\n",
       "    <tr>\n",
       "      <th>50%</th>\n",
       "      <td>2.018945e+14</td>\n",
       "      <td>0.936288</td>\n",
       "    </tr>\n",
       "    <tr>\n",
       "      <th>75%</th>\n",
       "      <td>2.106085e+14</td>\n",
       "      <td>0.953522</td>\n",
       "    </tr>\n",
       "    <tr>\n",
       "      <th>max</th>\n",
       "      <td>2.115931e+14</td>\n",
       "      <td>0.999874</td>\n",
       "    </tr>\n",
       "  </tbody>\n",
       "</table>\n",
       "</div>"
      ],
      "text/plain": [
       "                 id     eng_score\n",
       "count  6.191100e+04  61911.000000\n",
       "mean   1.620374e+14      0.937140\n",
       "std    6.322364e+13      0.021926\n",
       "min    2.000000e+00      0.900001\n",
       "25%    9.101660e+13      0.919101\n",
       "50%    2.018945e+14      0.936288\n",
       "75%    2.106085e+14      0.953522\n",
       "max    2.115931e+14      0.999874"
      ]
     },
     "execution_count": 12,
     "metadata": {},
     "output_type": "execute_result"
    }
   ],
   "source": [
    "df.describe()"
   ]
  },
  {
   "cell_type": "code",
   "execution_count": 13,
   "id": "3dcbfb2f",
   "metadata": {
    "scrolled": false
   },
   "outputs": [
    {
     "data": {
      "text/plain": [
       "'Your good name?. Where you get your emails?. Smile Please!! . 1. How many main literary periods and movements were discussed by the group reporter?. 2. This was a period in the History of Europe which bridged Middle Ages and Modern History.. 3. Meaning of Renaissance?. 5. This was also known as age of reason.. 4. Renaissance is considered as age of what?. NOW, PLEASE ANSWER THESE QUESTIONS.. Page Break. In your opinion and OWN perspective, How important to study the Literary Periods and Movements?. What is your favorite Literary Period/Movement? Explain why?. Page Break. Write your Insights and Learning about Classical Perios.. Page Break. Please rate our Report Discussion. . Please rate our PPT Presentation.. Check to get free points.. Thank You ah. God Bless. Ano reply mo?. Submit'"
      ]
     },
     "execution_count": 13,
     "metadata": {},
     "output_type": "execute_result"
    }
   ],
   "source": [
    "df.iloc[27,:].sentence"
   ]
  },
  {
   "cell_type": "code",
   "execution_count": 14,
   "id": "8bcaf82f",
   "metadata": {},
   "outputs": [],
   "source": [
    "punc_str = '[]^_`{|}~'\n",
    "trans_table = str.maketrans('', '', punc_str)\n",
    "punc_regex = re.compile('([.?,/#!$%^&*;:{}=_`~()-])[.,?/#!$%^&*;:{}=_`~()-]+')\n",
    "def clean_text(x):\n",
    "    global trans_table, punc_regex\n",
    "    x = x.translate(trans_table)\n",
    "    x = re.sub(punc_regex, '', x)\n",
    "    x = ' '.join(x.split())\n",
    "    return x"
   ]
  },
  {
   "cell_type": "code",
   "execution_count": 15,
   "id": "49d76102",
   "metadata": {},
   "outputs": [
    {
     "data": {
      "text/plain": [
       "'Your good name Where you get your emails Smile Please . 1. How many main literary periods and movements were discussed by the group reporter 2. This was a period in the History of Europe which bridged Middle Ages and Modern History 3. Meaning of Renaissance 5. This was also known as age of reason 4. Renaissance is considered as age of what NOW, PLEASE ANSWER THESE QUESTIONS Page Break. In your opinion and OWN perspective, How important to study the Literary Periods and Movements What is your favorite Literary Period/Movement? Explain why Page Break. Write your Insights and Learning about Classical Perios Page Break. Please rate our Report Discussion. . Please rate our PPT Presentation Check to get free points Thank You ah. God Bless. Ano reply mo Submit'"
      ]
     },
     "execution_count": 15,
     "metadata": {},
     "output_type": "execute_result"
    }
   ],
   "source": [
    "df['sentence'] = df['sentence'].apply(clean_text)\n",
    "df.iloc[27,:].sentence"
   ]
  },
  {
   "cell_type": "code",
   "execution_count": null,
   "id": "82135b2d",
   "metadata": {},
   "outputs": [],
   "source": []
  },
  {
   "cell_type": "code",
   "execution_count": 16,
   "id": "d7b04510",
   "metadata": {},
   "outputs": [],
   "source": [
    "df.to_csv('clean_text.csv', encoding='utf-8', index=False)"
   ]
  },
  {
   "cell_type": "code",
   "execution_count": null,
   "id": "0ef3e327",
   "metadata": {},
   "outputs": [],
   "source": []
  }
 ],
 "metadata": {
  "kernelspec": {
   "display_name": "Python 3",
   "language": "python",
   "name": "python3"
  },
  "language_info": {
   "codemirror_mode": {
    "name": "ipython",
    "version": 3
   },
   "file_extension": ".py",
   "mimetype": "text/x-python",
   "name": "python",
   "nbconvert_exporter": "python",
   "pygments_lexer": "ipython3",
   "version": "3.9.5"
  }
 },
 "nbformat": 4,
 "nbformat_minor": 5
}
