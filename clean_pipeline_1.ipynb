{
 "cells": [
  {
   "cell_type": "code",
   "execution_count": 1,
   "metadata": {},
   "outputs": [],
   "source": [
    "import pandas as pd\n",
    "from tqdm import tqdm\n",
    "import numpy as np\n",
    "import json\n",
    "import re\n",
    "import html\n",
    "import spacy\n",
    "import spacy_fastlang"
   ]
  },
  {
   "cell_type": "code",
   "execution_count": 2,
   "metadata": {
    "scrolled": false
   },
   "outputs": [],
   "source": [
    "# dfs = [pd.read_csv('text_batch1.csv', encoding=\"utf-8\", lineterminator='\\n')]\n",
    "# for i in range(2, 5):\n",
    "#     single_df_str = 'text_batch%d.csv' % i\n",
    "#     print(i)\n",
    "#     dfs.append(pd.read_csv(single_df_str, encoding=\"utf-8\", lineterminator='\\n'))\n",
    "# df = pd.concat(dfs, ignore_index=True)\n",
    "# df.to_csv('allforms.csv', encoding='utf-8', index=False)\n",
    "# df.describe()"
   ]
  },
  {
   "cell_type": "code",
   "execution_count": 3,
   "metadata": {},
   "outputs": [],
   "source": [
    "df = pd.read_csv('allforms.csv', encoding=\"utf-8\", lineterminator='\\n')"
   ]
  },
  {
   "cell_type": "code",
   "execution_count": 4,
   "metadata": {
    "scrolled": true
   },
   "outputs": [
    {
     "name": "stdout",
     "output_type": "stream",
     "text": [
      "id           0\n",
      "sentence    47\n",
      "dtype: int64\n"
     ]
    },
    {
     "data": {
      "text/html": [
       "<div>\n",
       "<style scoped>\n",
       "    .dataframe tbody tr th:only-of-type {\n",
       "        vertical-align: middle;\n",
       "    }\n",
       "\n",
       "    .dataframe tbody tr th {\n",
       "        vertical-align: top;\n",
       "    }\n",
       "\n",
       "    .dataframe thead th {\n",
       "        text-align: right;\n",
       "    }\n",
       "</style>\n",
       "<table border=\"1\" class=\"dataframe\">\n",
       "  <thead>\n",
       "    <tr style=\"text-align: right;\">\n",
       "      <th></th>\n",
       "      <th>id</th>\n",
       "      <th>sentence</th>\n",
       "    </tr>\n",
       "  </thead>\n",
       "  <tbody>\n",
       "    <tr>\n",
       "      <th>0</th>\n",
       "      <td>12502728116</td>\n",
       "      <td>About You.... SEND RESERVATION. Full Name. E-m...</td>\n",
       "    </tr>\n",
       "    <tr>\n",
       "      <th>1</th>\n",
       "      <td>21503493135952</td>\n",
       "      <td>Payment Form. CLICK TO PROCESS YOUR PAYMENT . ...</td>\n",
       "    </tr>\n",
       "    <tr>\n",
       "      <th>2</th>\n",
       "      <td>50556096982971</td>\n",
       "      <td>Submit. Company Name. Contact Name. E-mail. De...</td>\n",
       "    </tr>\n",
       "    <tr>\n",
       "      <th>3</th>\n",
       "      <td>60345507222952</td>\n",
       "      <td>Full Name. Submit. E-mail. Phone Number. Reque...</td>\n",
       "    </tr>\n",
       "    <tr>\n",
       "      <th>4</th>\n",
       "      <td>60405483339961</td>\n",
       "      <td>Lost and/or Found Form            . Submit. Fu...</td>\n",
       "    </tr>\n",
       "    <tr>\n",
       "      <th>...</th>\n",
       "      <td>...</td>\n",
       "      <td>...</td>\n",
       "    </tr>\n",
       "    <tr>\n",
       "      <th>399590</th>\n",
       "      <td>81425390115349</td>\n",
       "      <td>Envoyer. E-mail. Téléphone. Type de demande. &lt;...</td>\n",
       "    </tr>\n",
       "    <tr>\n",
       "      <th>399591</th>\n",
       "      <td>81426382540151</td>\n",
       "      <td>Submit. Job Safety Analysis - Shop, Yard &amp; Tru...</td>\n",
       "    </tr>\n",
       "    <tr>\n",
       "      <th>399592</th>\n",
       "      <td>81428439543159</td>\n",
       "      <td>SCBA Check. Submit. Vehicle Number - Brush. Cr...</td>\n",
       "    </tr>\n",
       "    <tr>\n",
       "      <th>399593</th>\n",
       "      <td>81431483343857</td>\n",
       "      <td>Enhanced Due Diligence Form . Transaction Date...</td>\n",
       "    </tr>\n",
       "    <tr>\n",
       "      <th>399594</th>\n",
       "      <td>81432476620353</td>\n",
       "      <td>Er plateselskapet ditt et enkeltpersonforetak?...</td>\n",
       "    </tr>\n",
       "  </tbody>\n",
       "</table>\n",
       "<p>399548 rows × 2 columns</p>\n",
       "</div>"
      ],
      "text/plain": [
       "                    id                                           sentence\n",
       "0          12502728116  About You.... SEND RESERVATION. Full Name. E-m...\n",
       "1       21503493135952  Payment Form. CLICK TO PROCESS YOUR PAYMENT . ...\n",
       "2       50556096982971  Submit. Company Name. Contact Name. E-mail. De...\n",
       "3       60345507222952  Full Name. Submit. E-mail. Phone Number. Reque...\n",
       "4       60405483339961  Lost and/or Found Form            . Submit. Fu...\n",
       "...                ...                                                ...\n",
       "399590  81425390115349  Envoyer. E-mail. Téléphone. Type de demande. <...\n",
       "399591  81426382540151  Submit. Job Safety Analysis - Shop, Yard & Tru...\n",
       "399592  81428439543159  SCBA Check. Submit. Vehicle Number - Brush. Cr...\n",
       "399593  81431483343857  Enhanced Due Diligence Form . Transaction Date...\n",
       "399594  81432476620353  Er plateselskapet ditt et enkeltpersonforetak?...\n",
       "\n",
       "[399548 rows x 2 columns]"
      ]
     },
     "execution_count": 4,
     "metadata": {},
     "output_type": "execute_result"
    }
   ],
   "source": [
    "print(df.isna().sum())\n",
    "df.dropna(inplace=True)\n",
    "df.drop_duplicates()"
   ]
  },
  {
   "cell_type": "code",
   "execution_count": 5,
   "metadata": {},
   "outputs": [],
   "source": [
    "html_regex = re.compile('<\\/?[^>]*>')\n",
    "url_regex = re.compile('\\w+:\\/{2}[\\d\\w-]+(\\.[\\d\\w-]+)*(?:(?:\\/[^\\s/]*))*')"
   ]
  },
  {
   "cell_type": "code",
   "execution_count": 6,
   "metadata": {},
   "outputs": [],
   "source": [
    "def clean_text(x):\n",
    "    global html_regex, url_regex\n",
    "    x[1] = re.sub(html_regex, '', x[1])\n",
    "    x[1] = re.sub(url_regex, '', x[1])\n",
    "    x[1] = ' '.join(x[1].split())\n",
    "    x[1] = html.unescape(x[1])\n",
    "    x[1] = ''.join(word for word in x[1] if word.isprintable())\n",
    "    return x"
   ]
  },
  {
   "cell_type": "code",
   "execution_count": 7,
   "metadata": {},
   "outputs": [],
   "source": [
    "def determine_acceptance(x):\n",
    "    if not x[1]:\n",
    "        return False\n",
    "    elif not x[1].isascii():\n",
    "        return False\n",
    "    return True"
   ]
  },
  {
   "cell_type": "code",
   "execution_count": 8,
   "metadata": {
    "scrolled": false
   },
   "outputs": [
    {
     "data": {
      "text/plain": [
       "212107"
      ]
     },
     "execution_count": 8,
     "metadata": {},
     "output_type": "execute_result"
    }
   ],
   "source": [
    "df_list = df.values.tolist()\n",
    "new_df_list = [clean_text(x) for x in df_list if determine_acceptance(x)]\n",
    "df = pd.DataFrame(new_df_list, columns =['id', 'sentence'])\n",
    "len(new_df_list)"
   ]
  },
  {
   "cell_type": "code",
   "execution_count": 9,
   "metadata": {},
   "outputs": [
    {
     "name": "stderr",
     "output_type": "stream",
     "text": [
      "Warning : `load_model` does not return WordVectorModel or SupervisedModel any more, but a `FastText` object which is very similar.\n"
     ]
    },
    {
     "data": {
      "text/plain": [
       "<spacy_fastlang.LanguageDetector at 0x7fee0c158190>"
      ]
     },
     "execution_count": 9,
     "metadata": {},
     "output_type": "execute_result"
    }
   ],
   "source": [
    "nlp = spacy.load('en_core_web_md')\n",
    "nlp.add_pipe('language_detector')"
   ]
  },
  {
   "cell_type": "code",
   "execution_count": 10,
   "metadata": {},
   "outputs": [
    {
     "name": "stderr",
     "output_type": "stream",
     "text": [
      "100%|██████████| 212107/212107 [1:03:15<00:00, 55.89it/s] \n"
     ]
    }
   ],
   "source": [
    "scores = {}\n",
    "blacklist = []\n",
    "tcount = df.shape[0]\n",
    "for row in tqdm(df.itertuples(index=False), total=tcount):\n",
    "    if len(row.sentence) < 2:\n",
    "        blacklist.append(row.id)\n",
    "        continue\n",
    "    doc = nlp(row.sentence)\n",
    "    if 'en' == doc._.language:\n",
    "        scores[row.id] = doc._.language_score\n",
    "    else:\n",
    "        scores[row.id] = 0"
   ]
  },
  {
   "cell_type": "code",
   "execution_count": 11,
   "metadata": {},
   "outputs": [
    {
     "name": "stdout",
     "output_type": "stream",
     "text": [
      "6 [211516749597064, 211084488493362, 210944679287066, 210758136460050, 202445800369050, 211442140693044]\n"
     ]
    }
   ],
   "source": [
    "print(len(blacklist), blacklist)"
   ]
  },
  {
   "cell_type": "code",
   "execution_count": 12,
   "metadata": {},
   "outputs": [],
   "source": [
    "df = df[~df['id'].isin(blacklist)]"
   ]
  },
  {
   "cell_type": "code",
   "execution_count": 13,
   "metadata": {},
   "outputs": [],
   "source": [
    "df['eng_score'] = df['id'].map(scores)"
   ]
  },
  {
   "cell_type": "code",
   "execution_count": 14,
   "metadata": {},
   "outputs": [
    {
     "data": {
      "text/html": [
       "<div>\n",
       "<style scoped>\n",
       "    .dataframe tbody tr th:only-of-type {\n",
       "        vertical-align: middle;\n",
       "    }\n",
       "\n",
       "    .dataframe tbody tr th {\n",
       "        vertical-align: top;\n",
       "    }\n",
       "\n",
       "    .dataframe thead th {\n",
       "        text-align: right;\n",
       "    }\n",
       "</style>\n",
       "<table border=\"1\" class=\"dataframe\">\n",
       "  <thead>\n",
       "    <tr style=\"text-align: right;\">\n",
       "      <th></th>\n",
       "      <th>id</th>\n",
       "      <th>sentence</th>\n",
       "      <th>eng_score</th>\n",
       "    </tr>\n",
       "  </thead>\n",
       "  <tbody>\n",
       "    <tr>\n",
       "      <th>0</th>\n",
       "      <td>12502728116</td>\n",
       "      <td>About You.... SEND RESERVATION. Full Name. E-m...</td>\n",
       "      <td>0.794774</td>\n",
       "    </tr>\n",
       "    <tr>\n",
       "      <th>1</th>\n",
       "      <td>50556096982971</td>\n",
       "      <td>Submit. Company Name. Contact Name. E-mail. De...</td>\n",
       "      <td>0.618418</td>\n",
       "    </tr>\n",
       "    <tr>\n",
       "      <th>2</th>\n",
       "      <td>60345507222952</td>\n",
       "      <td>Full Name. Submit. E-mail. Phone Number. Reque...</td>\n",
       "      <td>0.811168</td>\n",
       "    </tr>\n",
       "    <tr>\n",
       "      <th>3</th>\n",
       "      <td>60405483339961</td>\n",
       "      <td>Lost and/or Found Form . Submit. Full Name. To...</td>\n",
       "      <td>0.910910</td>\n",
       "    </tr>\n",
       "    <tr>\n",
       "      <th>4</th>\n",
       "      <td>72682483684166</td>\n",
       "      <td>Contact Us. Submit. Name. E-mail. How Can We H...</td>\n",
       "      <td>0.624258</td>\n",
       "    </tr>\n",
       "  </tbody>\n",
       "</table>\n",
       "</div>"
      ],
      "text/plain": [
       "               id                                           sentence  \\\n",
       "0     12502728116  About You.... SEND RESERVATION. Full Name. E-m...   \n",
       "1  50556096982971  Submit. Company Name. Contact Name. E-mail. De...   \n",
       "2  60345507222952  Full Name. Submit. E-mail. Phone Number. Reque...   \n",
       "3  60405483339961  Lost and/or Found Form . Submit. Full Name. To...   \n",
       "4  72682483684166  Contact Us. Submit. Name. E-mail. How Can We H...   \n",
       "\n",
       "   eng_score  \n",
       "0   0.794774  \n",
       "1   0.618418  \n",
       "2   0.811168  \n",
       "3   0.910910  \n",
       "4   0.624258  "
      ]
     },
     "execution_count": 14,
     "metadata": {},
     "output_type": "execute_result"
    }
   ],
   "source": [
    "df.head()"
   ]
  },
  {
   "cell_type": "code",
   "execution_count": 15,
   "metadata": {},
   "outputs": [],
   "source": [
    "df.to_csv('eng_score_new.csv', encoding='utf-8', index=False)"
   ]
  }
 ],
 "metadata": {
  "kernelspec": {
   "display_name": "Python 3",
   "language": "python",
   "name": "python3"
  },
  "language_info": {
   "codemirror_mode": {
    "name": "ipython",
    "version": 3
   },
   "file_extension": ".py",
   "mimetype": "text/x-python",
   "name": "python",
   "nbconvert_exporter": "python",
   "pygments_lexer": "ipython3",
   "version": "3.9.5"
  }
 },
 "nbformat": 4,
 "nbformat_minor": 2
}
